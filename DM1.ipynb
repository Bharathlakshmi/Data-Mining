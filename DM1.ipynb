{
  "nbformat": 4,
  "nbformat_minor": 0,
  "metadata": {
    "colab": {
      "provenance": []
    },
    "kernelspec": {
      "name": "python3",
      "display_name": "Python 3"
    },
    "language_info": {
      "name": "python"
    }
  },
  "cells": [
    {
      "cell_type": "code",
      "metadata": {
        "colab": {
          "resources": {
            "http://localhost:8080/nbextensions/google.colab/files.js": {
              "data": "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",
              "ok": true,
              "headers": [
                [
                  "content-type",
                  "application/javascript"
                ]
              ],
              "status": 200,
              "status_text": "OK"
            }
          },
          "base_uri": "https://localhost:8080/",
          "height": 74
        },
        "id": "NPzln8K4GGij",
        "outputId": "62e678cd-1136-450e-f2e6-6dbd067f3edd"
      },
      "source": [
        "from google.colab import files\n",
        "uploaded = files.upload()"
      ],
      "execution_count": null,
      "outputs": [
        {
          "output_type": "display_data",
          "data": {
            "text/html": [
              "\n",
              "     <input type=\"file\" id=\"files-7eb59392-afa3-4ca2-8f38-661c4cce9c05\" name=\"files[]\" multiple disabled\n",
              "        style=\"border:none\" />\n",
              "     <output id=\"result-7eb59392-afa3-4ca2-8f38-661c4cce9c05\">\n",
              "      Upload widget is only available when the cell has been executed in the\n",
              "      current browser session. Please rerun this cell to enable.\n",
              "      </output>\n",
              "      <script src=\"/nbextensions/google.colab/files.js\"></script> "
            ],
            "text/plain": [
              "<IPython.core.display.HTML object>"
            ]
          },
          "metadata": {}
        },
        {
          "output_type": "stream",
          "name": "stdout",
          "text": [
            "Saving csv_result-PersonalitySwipes_full.csv to csv_result-PersonalitySwipes_full (1).csv\n"
          ]
        }
      ]
    },
    {
      "cell_type": "code",
      "metadata": {
        "colab": {
          "base_uri": "https://localhost:8080/",
          "height": 563
        },
        "id": "D7hCAfM0HIYj",
        "outputId": "32f11b14-c762-4eb1-8813-0207e3dde5aa"
      },
      "source": [
        "import pandas as pd\n",
        "import numpy as np\n",
        "from sklearn.model_selection import train_test_split\n",
        "ds=pd.read_csv('/content/csv_result-PersonalitySwipes_full.csv')\n",
        "print(ds)\n",
        "ds.describe()"
      ],
      "execution_count": null,
      "outputs": [
        {
          "output_type": "stream",
          "name": "stdout",
          "text": [
            "        id  questionid  touchexperience  answer  ...   N   P  L  EN\n",
            "0        1           1                5       0  ...  30  20  4   1\n",
            "1        2           2                5       1  ...  30  20  4   1\n",
            "2        3           3                5       1  ...  30  20  4   1\n",
            "3        4           4                5       1  ...  30  20  4   1\n",
            "4        5           5                5       0  ...  30  20  4   1\n",
            "...    ...         ...              ...     ...  ...  ..  .. ..  ..\n",
            "5679  5680          54                4       0  ...   4  16  6   4\n",
            "5680  5681          55                4       0  ...   4  16  6   4\n",
            "5681  5682          56                4       0  ...   4  16  6   4\n",
            "5682  5683          57                4       1  ...   4  16  6   4\n",
            "5683  5684          58                4       0  ...   4  16  6   4\n",
            "\n",
            "[5684 rows x 22 columns]\n"
          ]
        },
        {
          "output_type": "execute_result",
          "data": {
            "text/html": [
              "<div>\n",
              "<style scoped>\n",
              "    .dataframe tbody tr th:only-of-type {\n",
              "        vertical-align: middle;\n",
              "    }\n",
              "\n",
              "    .dataframe tbody tr th {\n",
              "        vertical-align: top;\n",
              "    }\n",
              "\n",
              "    .dataframe thead th {\n",
              "        text-align: right;\n",
              "    }\n",
              "</style>\n",
              "<table border=\"1\" class=\"dataframe\">\n",
              "  <thead>\n",
              "    <tr style=\"text-align: right;\">\n",
              "      <th></th>\n",
              "      <th>id</th>\n",
              "      <th>questionid</th>\n",
              "      <th>touchexperience</th>\n",
              "      <th>answer</th>\n",
              "      <th>answerpercent</th>\n",
              "      <th>duration</th>\n",
              "      <th>length_of_trajectory</th>\n",
              "      <th>average_velocity</th>\n",
              "      <th>accelerationatstart</th>\n",
              "      <th>midstrokenpressure</th>\n",
              "      <th>midstrokefingerarea</th>\n",
              "      <th>meanpressure</th>\n",
              "      <th>meanfingerarea</th>\n",
              "      <th>meangx</th>\n",
              "      <th>meangy</th>\n",
              "      <th>meangz</th>\n",
              "      <th>userid</th>\n",
              "      <th>E</th>\n",
              "      <th>N</th>\n",
              "      <th>P</th>\n",
              "      <th>L</th>\n",
              "      <th>EN</th>\n",
              "    </tr>\n",
              "  </thead>\n",
              "  <tbody>\n",
              "    <tr>\n",
              "      <th>count</th>\n",
              "      <td>5684.000000</td>\n",
              "      <td>5684.000000</td>\n",
              "      <td>5684.000000</td>\n",
              "      <td>5684.000000</td>\n",
              "      <td>5684.000000</td>\n",
              "      <td>5684.000000</td>\n",
              "      <td>5684.000000</td>\n",
              "      <td>5684.000000</td>\n",
              "      <td>5684.000000</td>\n",
              "      <td>5684.000000</td>\n",
              "      <td>5684.000000</td>\n",
              "      <td>5684.000000</td>\n",
              "      <td>5684.000000</td>\n",
              "      <td>5684.000000</td>\n",
              "      <td>5684.000000</td>\n",
              "      <td>5684.000000</td>\n",
              "      <td>5684.000000</td>\n",
              "      <td>5684.000000</td>\n",
              "      <td>5684.000000</td>\n",
              "      <td>5684.000000</td>\n",
              "      <td>5684.000000</td>\n",
              "      <td>5684.000000</td>\n",
              "    </tr>\n",
              "    <tr>\n",
              "      <th>mean</th>\n",
              "      <td>2842.500000</td>\n",
              "      <td>29.500000</td>\n",
              "      <td>3.867347</td>\n",
              "      <td>0.576003</td>\n",
              "      <td>70.368578</td>\n",
              "      <td>629.638987</td>\n",
              "      <td>312.284445</td>\n",
              "      <td>0.785409</td>\n",
              "      <td>0.001866</td>\n",
              "      <td>0.513090</td>\n",
              "      <td>0.308183</td>\n",
              "      <td>0.436751</td>\n",
              "      <td>0.300637</td>\n",
              "      <td>0.080275</td>\n",
              "      <td>4.704145</td>\n",
              "      <td>7.435069</td>\n",
              "      <td>195.622449</td>\n",
              "      <td>17.897959</td>\n",
              "      <td>22.897959</td>\n",
              "      <td>20.632653</td>\n",
              "      <td>5.387755</td>\n",
              "      <td>2.010204</td>\n",
              "    </tr>\n",
              "    <tr>\n",
              "      <th>std</th>\n",
              "      <td>1640.973796</td>\n",
              "      <td>16.742142</td>\n",
              "      <td>1.139718</td>\n",
              "      <td>0.494233</td>\n",
              "      <td>29.684886</td>\n",
              "      <td>729.950591</td>\n",
              "      <td>175.086166</td>\n",
              "      <td>0.576789</td>\n",
              "      <td>0.024381</td>\n",
              "      <td>0.231346</td>\n",
              "      <td>0.097595</td>\n",
              "      <td>0.183952</td>\n",
              "      <td>0.084146</td>\n",
              "      <td>1.068598</td>\n",
              "      <td>3.304332</td>\n",
              "      <td>2.578949</td>\n",
              "      <td>155.567306</td>\n",
              "      <td>8.434747</td>\n",
              "      <td>8.142934</td>\n",
              "      <td>5.311964</td>\n",
              "      <td>2.776355</td>\n",
              "      <td>1.129438</td>\n",
              "    </tr>\n",
              "    <tr>\n",
              "      <th>min</th>\n",
              "      <td>1.000000</td>\n",
              "      <td>1.000000</td>\n",
              "      <td>1.000000</td>\n",
              "      <td>0.000000</td>\n",
              "      <td>0.000000</td>\n",
              "      <td>69.000000</td>\n",
              "      <td>3.386649</td>\n",
              "      <td>0.013905</td>\n",
              "      <td>-0.745245</td>\n",
              "      <td>0.057600</td>\n",
              "      <td>0.032258</td>\n",
              "      <td>0.070400</td>\n",
              "      <td>0.109677</td>\n",
              "      <td>-5.592955</td>\n",
              "      <td>-3.788495</td>\n",
              "      <td>-9.430910</td>\n",
              "      <td>1.000000</td>\n",
              "      <td>0.000000</td>\n",
              "      <td>4.000000</td>\n",
              "      <td>6.000000</td>\n",
              "      <td>0.000000</td>\n",
              "      <td>1.000000</td>\n",
              "    </tr>\n",
              "    <tr>\n",
              "      <th>25%</th>\n",
              "      <td>1421.750000</td>\n",
              "      <td>15.000000</td>\n",
              "      <td>3.000000</td>\n",
              "      <td>0.000000</td>\n",
              "      <td>44.000000</td>\n",
              "      <td>290.000000</td>\n",
              "      <td>196.233945</td>\n",
              "      <td>0.289622</td>\n",
              "      <td>0.000000</td>\n",
              "      <td>0.350400</td>\n",
              "      <td>0.225806</td>\n",
              "      <td>0.301890</td>\n",
              "      <td>0.240143</td>\n",
              "      <td>-0.422385</td>\n",
              "      <td>2.481851</td>\n",
              "      <td>6.569833</td>\n",
              "      <td>32.000000</td>\n",
              "      <td>12.000000</td>\n",
              "      <td>16.000000</td>\n",
              "      <td>16.000000</td>\n",
              "      <td>4.000000</td>\n",
              "      <td>1.000000</td>\n",
              "    </tr>\n",
              "    <tr>\n",
              "      <th>50%</th>\n",
              "      <td>2842.500000</td>\n",
              "      <td>29.500000</td>\n",
              "      <td>4.000000</td>\n",
              "      <td>1.000000</td>\n",
              "      <td>84.000000</td>\n",
              "      <td>447.000000</td>\n",
              "      <td>360.464385</td>\n",
              "      <td>0.657097</td>\n",
              "      <td>0.000606</td>\n",
              "      <td>0.494400</td>\n",
              "      <td>0.290323</td>\n",
              "      <td>0.406080</td>\n",
              "      <td>0.290323</td>\n",
              "      <td>0.162847</td>\n",
              "      <td>5.532712</td>\n",
              "      <td>7.959692</td>\n",
              "      <td>205.500000</td>\n",
              "      <td>18.000000</td>\n",
              "      <td>22.000000</td>\n",
              "      <td>22.000000</td>\n",
              "      <td>6.000000</td>\n",
              "      <td>2.000000</td>\n",
              "    </tr>\n",
              "    <tr>\n",
              "      <th>75%</th>\n",
              "      <td>4263.250000</td>\n",
              "      <td>44.000000</td>\n",
              "      <td>5.000000</td>\n",
              "      <td>1.000000</td>\n",
              "      <td>97.000000</td>\n",
              "      <td>717.000000</td>\n",
              "      <td>398.799835</td>\n",
              "      <td>1.173347</td>\n",
              "      <td>0.005302</td>\n",
              "      <td>0.662400</td>\n",
              "      <td>0.354839</td>\n",
              "      <td>0.540343</td>\n",
              "      <td>0.346774</td>\n",
              "      <td>0.618537</td>\n",
              "      <td>7.144040</td>\n",
              "      <td>9.286164</td>\n",
              "      <td>319.000000</td>\n",
              "      <td>24.000000</td>\n",
              "      <td>30.000000</td>\n",
              "      <td>24.000000</td>\n",
              "      <td>8.000000</td>\n",
              "      <td>3.000000</td>\n",
              "    </tr>\n",
              "    <tr>\n",
              "      <th>max</th>\n",
              "      <td>5684.000000</td>\n",
              "      <td>58.000000</td>\n",
              "      <td>5.000000</td>\n",
              "      <td>1.000000</td>\n",
              "      <td>101.000000</td>\n",
              "      <td>18262.000000</td>\n",
              "      <td>5101.321010</td>\n",
              "      <td>3.540814</td>\n",
              "      <td>0.519070</td>\n",
              "      <td>1.000000</td>\n",
              "      <td>1.000000</td>\n",
              "      <td>1.135200</td>\n",
              "      <td>0.754839</td>\n",
              "      <td>4.827444</td>\n",
              "      <td>9.788335</td>\n",
              "      <td>9.806500</td>\n",
              "      <td>422.000000</td>\n",
              "      <td>32.000000</td>\n",
              "      <td>38.000000</td>\n",
              "      <td>30.000000</td>\n",
              "      <td>12.000000</td>\n",
              "      <td>4.000000</td>\n",
              "    </tr>\n",
              "  </tbody>\n",
              "</table>\n",
              "</div>"
            ],
            "text/plain": [
              "                id   questionid  ...            L           EN\n",
              "count  5684.000000  5684.000000  ...  5684.000000  5684.000000\n",
              "mean   2842.500000    29.500000  ...     5.387755     2.010204\n",
              "std    1640.973796    16.742142  ...     2.776355     1.129438\n",
              "min       1.000000     1.000000  ...     0.000000     1.000000\n",
              "25%    1421.750000    15.000000  ...     4.000000     1.000000\n",
              "50%    2842.500000    29.500000  ...     6.000000     2.000000\n",
              "75%    4263.250000    44.000000  ...     8.000000     3.000000\n",
              "max    5684.000000    58.000000  ...    12.000000     4.000000\n",
              "\n",
              "[8 rows x 22 columns]"
            ]
          },
          "metadata": {},
          "execution_count": 41
        }
      ]
    },
    {
      "cell_type": "code",
      "metadata": {
        "colab": {
          "base_uri": "https://localhost:8080/"
        },
        "id": "-5H2JJTOHV-k",
        "outputId": "040539f4-e60a-41f6-a78c-0be94678d08c"
      },
      "source": [
        "# splitting X and y into training and testing sets\n",
        "from sklearn.model_selection import train_test_split\n",
        "x_train, x_test, y_train, y_test = train_test_split(x, y, test_size=0.2, random_state=1)\n",
        "\n",
        "# printing the shapes of the new X objects\n",
        "print(\"x_train shape: \",x_train.shape)\n",
        "print(\"x_test shape: \",x_test.shape)\n",
        "\n",
        "# printing the shapes of the new y objects\n",
        "print(\"y_train shape: \",y_train.shape)\n",
        "print(\"y_test shape: \",y_test.shape)"
      ],
      "execution_count": null,
      "outputs": [
        {
          "output_type": "stream",
          "name": "stdout",
          "text": [
            "x_train shape:  (8,)\n",
            "x_test shape:  (2,)\n",
            "y_train shape:  (8,)\n",
            "y_test shape:  (2,)\n"
          ]
        }
      ]
    },
    {
      "cell_type": "code",
      "metadata": {
        "colab": {
          "base_uri": "https://localhost:8080/"
        },
        "id": "wSu6YuLlQoFl",
        "outputId": "09e32de9-6ea2-4c05-afaa-4e499dbc804e"
      },
      "source": [
        "df=ds.head(10)\n",
        "print(df)"
      ],
      "execution_count": null,
      "outputs": [
        {
          "output_type": "stream",
          "name": "stdout",
          "text": [
            "   id  questionid  touchexperience  answer  answerpercent  ...   E   N   P  L  EN\n",
            "0   1           1                5       0             96  ...  20  30  20  4   1\n",
            "1   2           2                5       1             97  ...  20  30  20  4   1\n",
            "2   3           3                5       1             95  ...  20  30  20  4   1\n",
            "3   4           4                5       1             95  ...  20  30  20  4   1\n",
            "4   5           5                5       0             55  ...  20  30  20  4   1\n",
            "5   6           6                5       0             20  ...  20  30  20  4   1\n",
            "6   7           7                5       1             36  ...  20  30  20  4   1\n",
            "7   8           8                5       1             99  ...  20  30  20  4   1\n",
            "8   9           9                5       0             26  ...  20  30  20  4   1\n",
            "9  10          10                5       1             95  ...  20  30  20  4   1\n",
            "\n",
            "[10 rows x 22 columns]\n"
          ]
        }
      ]
    },
    {
      "cell_type": "code",
      "metadata": {
        "id": "q3wgSXxMaror"
      },
      "source": [
        "import seaborn as sns"
      ],
      "execution_count": null,
      "outputs": []
    },
    {
      "cell_type": "code",
      "metadata": {
        "colab": {
          "base_uri": "https://localhost:8080/",
          "height": 280
        },
        "id": "Mzu_3O79T7Km",
        "outputId": "5f408e42-7267-4b87-f23d-d8c5a69b9907"
      },
      "source": [
        "import numpy as np\n",
        "import matplotlib.pyplot as plt\n",
        "\n",
        "x = df.id\n",
        "y = df.length_of_trajectory\n",
        "\n",
        "scatter_axes = plt.subplot2grid((3, 3), (1, 0), rowspan=2, colspan=2)\n",
        "plt.xlabel(\"user id\")\n",
        "plt.ylabel(\"length_of_trajectory\")\n",
        "x_hist_axes = plt.subplot2grid((3,3), (0, 0), colspan=2,sharex=scatter_axes)\n",
        "y_hist_axes = plt.subplot2grid((3,3), (1, 2), rowspan=2,sharey=scatter_axes)\n",
        "\n",
        "scatter_axes.plot(x, y, '.')\n",
        "x_hist_axes.hist(x)\n",
        "y_hist_axes.hist(y, orientation='horizontal')\n",
        "\n",
        "\n",
        "\n",
        "\n",
        "\n",
        "plt.draw()"
      ],
      "execution_count": null,
      "outputs": [
        {
          "output_type": "display_data",
          "data": {
            "image/png": "[encoded data removed]",
            "text/plain": [
              "<Figure size 432x288 with 3 Axes>"
            ]
          },
          "metadata": {
            "needs_background": "light"
          }
        }
      ]
    },
    {
      "cell_type": "code",
      "metadata": {
        "colab": {
          "base_uri": "https://localhost:8080/",
          "height": 280
        },
        "id": "tpsdsV4yT9nl",
        "outputId": "57e66b40-4ad6-4710-baa6-2456906d277a"
      },
      "source": [
        "import numpy as np\n",
        "import matplotlib.pyplot as plt\n",
        "\n",
        "x = df.id\n",
        "y = df.average_velocity\n",
        "\n",
        "scatter_axes = plt.subplot2grid((3, 3), (1, 0), rowspan=2, colspan=2)\n",
        "plt.xlabel(\"user id\")\n",
        "plt.ylabel(\"average_velocity\")\n",
        "x_hist_axes = plt.subplot2grid((3,3), (0, 0), colspan=2,sharex=scatter_axes)\n",
        "y_hist_axes = plt.subplot2grid((3,3), (1, 2), rowspan=2,sharey=scatter_axes)\n",
        "\n",
        "scatter_axes.plot(x, y, '.')\n",
        "x_hist_axes.hist(x)\n",
        "y_hist_axes.hist(y, orientation='horizontal')\n",
        "\n",
        "\n",
        "plt.draw()"
      ],
      "execution_count": null,
      "outputs": [
        {
          "output_type": "display_data",
          "data": {
            "image/png": "[encoded data removed]",
            "text/plain": [
              "<Figure size 432x288 with 3 Axes>"
            ]
          },
          "metadata": {
            "needs_background": "light"
          }
        }
      ]
    },
    {
      "cell_type": "code",
      "metadata": {
        "colab": {
          "base_uri": "https://localhost:8080/",
          "height": 280
        },
        "id": "8qQfeOWDUc7O",
        "outputId": "51302b10-0b38-4fe1-eb80-3c0165a06793"
      },
      "source": [
        "import numpy as np\n",
        "import matplotlib.pyplot as plt\n",
        "\n",
        "x = df.id\n",
        "y = df.accelerationatstart\n",
        "\n",
        "scatter_axes = plt.subplot2grid((3, 3), (1, 0), rowspan=2, colspan=2)\n",
        "plt.xlabel(\"user id\")\n",
        "plt.ylabel(\"accelerationatstart\")\n",
        "x_hist_axes = plt.subplot2grid((3,3), (0, 0), colspan=2,sharex=scatter_axes)\n",
        "y_hist_axes = plt.subplot2grid((3,3), (1, 2), rowspan=2,sharey=scatter_axes)\n",
        "\n",
        "scatter_axes.plot(x, y, '.')\n",
        "x_hist_axes.hist(x)\n",
        "y_hist_axes.hist(y, orientation='horizontal')\n",
        "\n",
        "\n",
        "plt.draw()"
      ],
      "execution_count": null,
      "outputs": [
        {
          "output_type": "display_data",
          "data": {
            "image/png": "[encoded data removed]",
            "text/plain": [
              "<Figure size 432x288 with 3 Axes>"
            ]
          },
          "metadata": {
            "needs_background": "light"
          }
        }
      ]
    },
    {
      "cell_type": "code",
      "metadata": {
        "colab": {
          "base_uri": "https://localhost:8080/",
          "height": 280
        },
        "id": "v_NMVbdUUji8",
        "outputId": "e364eb9c-2119-44c3-eec2-2a90a6b21aa7"
      },
      "source": [
        "import numpy as np\n",
        "import matplotlib.pyplot as plt\n",
        "\n",
        "x = df.id\n",
        "y = df.midstrokenpressure\n",
        "\n",
        "scatter_axes = plt.subplot2grid((3, 3), (1, 0), rowspan=2, colspan=2)\n",
        "plt.xlabel(\"user id\")\n",
        "plt.ylabel(\"midstrokenpressure\")\n",
        "x_hist_axes = plt.subplot2grid((3,3), (0, 0), colspan=2,sharex=scatter_axes)\n",
        "y_hist_axes = plt.subplot2grid((3,3), (1, 2), rowspan=2,sharey=scatter_axes)\n",
        "\n",
        "scatter_axes.plot(x, y, '.')\n",
        "x_hist_axes.hist(x)\n",
        "y_hist_axes.hist(y, orientation='horizontal')\n",
        "\n",
        "\n",
        "plt.draw()"
      ],
      "execution_count": null,
      "outputs": [
        {
          "output_type": "display_data",
          "data": {
            "image/png": "[encoded data removed]",
            "text/plain": [
              "<Figure size 432x288 with 3 Axes>"
            ]
          },
          "metadata": {
            "needs_background": "light"
          }
        }
      ]
    },
    {
      "cell_type": "code",
      "metadata": {
        "colab": {
          "base_uri": "https://localhost:8080/",
          "height": 280
        },
        "id": "EQLYM13bM_Zu",
        "outputId": "43998fd2-73f6-4cd1-8226-d83d8589a7ce"
      },
      "source": [
        "import numpy as np\n",
        "import matplotlib.pyplot as plt\n",
        "\n",
        "x = df.id\n",
        "y = df.midstrokefingerarea\n",
        "\n",
        "scatter_axes = plt.subplot2grid((3, 3), (1, 0), rowspan=2, colspan=2)\n",
        "plt.xlabel(\"user id\")\n",
        "plt.ylabel(\"midstrokefingerarea\")\n",
        "x_hist_axes = plt.subplot2grid((3,3), (0, 0), colspan=2,sharex=scatter_axes)\n",
        "y_hist_axes = plt.subplot2grid((3,3), (1, 2), rowspan=2,sharey=scatter_axes)\n",
        "\n",
        "scatter_axes.plot(x, y, '.')\n",
        "x_hist_axes.hist(x)\n",
        "y_hist_axes.hist(y, orientation='horizontal')\n",
        "\n",
        "\n",
        "plt.draw()"
      ],
      "execution_count": null,
      "outputs": [
        {
          "output_type": "display_data",
          "data": {
            "image/png": "[encoded data removed]",
            "text/plain": [
              "<Figure size 432x288 with 3 Axes>"
            ]
          },
          "metadata": {
            "needs_background": "light"
          }
        }
      ]
    },
    {
      "cell_type": "code",
      "metadata": {
        "colab": {
          "base_uri": "https://localhost:8080/",
          "height": 280
        },
        "id": "GjGapUEpVq8H",
        "outputId": "9ea43d73-2c77-4313-91f2-0caad95f9e42"
      },
      "source": [
        "import numpy as np\n",
        "import matplotlib.pyplot as plt\n",
        "\n",
        "x = df.id\n",
        "y = df.meanpressure\n",
        "\n",
        "scatter_axes = plt.subplot2grid((3, 3), (1, 0), rowspan=2, colspan=2)\n",
        "plt.xlabel(\"user id\")\n",
        "plt.ylabel(\"meanpressure\")\n",
        "x_hist_axes = plt.subplot2grid((3,3), (0, 0), colspan=2,sharex=scatter_axes)\n",
        "y_hist_axes = plt.subplot2grid((3,3), (1, 2), rowspan=2,sharey=scatter_axes)\n",
        "\n",
        "scatter_axes.plot(x, y, '.')\n",
        "x_hist_axes.hist(x)\n",
        "y_hist_axes.hist(y, orientation='horizontal')\n",
        "\n",
        "\n",
        "plt.draw()"
      ],
      "execution_count": null,
      "outputs": [
        {
          "output_type": "display_data",
          "data": {
            "image/png": "[encoded data removed]",
            "text/plain": [
              "<Figure size 432x288 with 3 Axes>"
            ]
          },
          "metadata": {
            "needs_background": "light"
          }
        }
      ]
    },
    {
      "cell_type": "code",
      "metadata": {
        "colab": {
          "base_uri": "https://localhost:8080/",
          "height": 280
        },
        "id": "u-G6xqpUV4Kd",
        "outputId": "ea908edf-e478-48ca-a67e-7dd6ff05cec0"
      },
      "source": [
        "import numpy as np\n",
        "import matplotlib.pyplot as plt\n",
        "\n",
        "x = df.id\n",
        "y = df.meanfingerarea\n",
        "\n",
        "scatter_axes = plt.subplot2grid((3, 3), (1, 0), rowspan=2, colspan=2)\n",
        "plt.xlabel(\"user id\")\n",
        "plt.ylabel(\"meanfingerarea\")\n",
        "x_hist_axes = plt.subplot2grid((3,3), (0, 0), colspan=2,sharex=scatter_axes)\n",
        "y_hist_axes = plt.subplot2grid((3,3), (1, 2), rowspan=2,sharey=scatter_axes)\n",
        "\n",
        "scatter_axes.plot(x, y, '.')\n",
        "x_hist_axes.hist(x)\n",
        "y_hist_axes.hist(y, orientation='horizontal')\n",
        "\n",
        "\n",
        "plt.draw()"
      ],
      "execution_count": null,
      "outputs": [
        {
          "output_type": "display_data",
          "data": {
            "image/png": "[encoded data removed]",
            "text/plain": [
              "<Figure size 432x288 with 3 Axes>"
            ]
          },
          "metadata": {
            "needs_background": "light"
          }
        }
      ]
    },
    {
      "cell_type": "code",
      "metadata": {
        "colab": {
          "base_uri": "https://localhost:8080/",
          "height": 280
        },
        "id": "EeXGyYECWERv",
        "outputId": "1c3c8e4f-6ade-4d13-eeef-09edc1ab5e22"
      },
      "source": [
        "import numpy as np\n",
        "import matplotlib.pyplot as plt\n",
        "\n",
        "x = df.id\n",
        "y = df.meangx\n",
        "\n",
        "scatter_axes = plt.subplot2grid((3, 3), (1, 0), rowspan=2, colspan=2)\n",
        "plt.xlabel(\"user id\")\n",
        "plt.ylabel(\"meangx\")\n",
        "x_hist_axes = plt.subplot2grid((3,3), (0, 0), colspan=2,sharex=scatter_axes)\n",
        "y_hist_axes = plt.subplot2grid((3,3), (1, 2), rowspan=2,sharey=scatter_axes)\n",
        "\n",
        "scatter_axes.plot(x, y, '.')\n",
        "x_hist_axes.hist(x)\n",
        "y_hist_axes.hist(y, orientation='horizontal')\n",
        "\n",
        "\n",
        "plt.draw()"
      ],
      "execution_count": null,
      "outputs": [
        {
          "output_type": "display_data",
          "data": {
            "image/png": "[encoded data removed]",
            "text/plain": [
              "<Figure size 432x288 with 3 Axes>"
            ]
          },
          "metadata": {
            "needs_background": "light"
          }
        }
      ]
    },
    {
      "cell_type": "code",
      "metadata": {
        "colab": {
          "base_uri": "https://localhost:8080/",
          "height": 280
        },
        "id": "Y_oKuzflWEH1",
        "outputId": "77971797-00a3-44ea-e679-9325060dc90f"
      },
      "source": [
        "import numpy as np\n",
        "import matplotlib.pyplot as plt\n",
        "\n",
        "x = df.id\n",
        "y = df.meangy\n",
        "scatter_axes = plt.subplot2grid((3, 3), (1, 0), rowspan=2, colspan=2)\n",
        "plt.xlabel(\"user id\")\n",
        "plt.ylabel(\"meangy\")\n",
        "x_hist_axes = plt.subplot2grid((3,3), (0, 0), colspan=2,sharex=scatter_axes)\n",
        "y_hist_axes = plt.subplot2grid((3,3), (1, 2), rowspan=2,sharey=scatter_axes)\n",
        "\n",
        "scatter_axes.plot(x, y, '.')\n",
        "x_hist_axes.hist(x)\n",
        "y_hist_axes.hist(y, orientation='horizontal')\n",
        "\n",
        "\n",
        "plt.draw()"
      ],
      "execution_count": null,
      "outputs": [
        {
          "output_type": "display_data",
          "data": {
            "image/png": "[encoded data removed]",
            "text/plain": [
              "<Figure size 432x288 with 3 Axes>"
            ]
          },
          "metadata": {
            "needs_background": "light"
          }
        }
      ]
    },
    {
      "cell_type": "code",
      "metadata": {
        "colab": {
          "base_uri": "https://localhost:8080/",
          "height": 280
        },
        "id": "cDyNOaHXWD4N",
        "outputId": "356fa677-2cf6-4b00-9c2d-1f077686dcf5"
      },
      "source": [
        "import numpy as np\n",
        "import matplotlib.pyplot as plt\n",
        "\n",
        "x = df.id\n",
        "y = df.meangz\n",
        "\n",
        "scatter_axes = plt.subplot2grid((3, 3), (1, 0), rowspan=2, colspan=2)\n",
        "plt.xlabel(\"user id\")\n",
        "plt.ylabel(\"meangz\")\n",
        "x_hist_axes = plt.subplot2grid((3,3), (0, 0), colspan=2,sharex=scatter_axes)\n",
        "y_hist_axes = plt.subplot2grid((3,3), (1, 2), rowspan=2,sharey=scatter_axes)\n",
        "\n",
        "scatter_axes.plot(x, y, '.')\n",
        "x_hist_axes.hist(x)\n",
        "y_hist_axes.hist(y, orientation='horizontal')\n",
        "\n",
        "\n",
        "plt.draw()"
      ],
      "execution_count": null,
      "outputs": [
        {
          "output_type": "display_data",
          "data": {
            "image/png": "[encoded data removed]",
            "text/plain": [
              "<Figure size 432x288 with 3 Axes>"
            ]
          },
          "metadata": {
            "needs_background": "light"
          }
        }
      ]
    }
  ]
}